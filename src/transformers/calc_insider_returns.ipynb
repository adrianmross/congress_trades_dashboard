{
 "cells": [
  {
   "cell_type": "code",
   "execution_count": 1,
   "metadata": {},
   "outputs": [],
   "source": [
    "import os\n",
    "import pandas as pd\n",
    "from yahoo_fin.stock_info import get_data\n",
    "from concurrent.futures import ThreadPoolExecutor"
   ]
  },
  {
   "cell_type": "code",
   "execution_count": 2,
   "metadata": {},
   "outputs": [],
   "source": [
    "# load files\n",
    "transactions = pd.read_csv('../../data/outputs/insider_marked_trades.csv')"
   ]
  },
  {
   "cell_type": "code",
   "execution_count": 3,
   "metadata": {},
   "outputs": [],
   "source": [
    "# read from text file\n",
    "file = open('../../data/inputs/bad_tickers.txt', 'r')\n",
    "# get the list of bad tickers from file, separated by a comma\n",
    "bad_tickers = file.read().split(',')\n",
    "file.close()\n",
    "\n",
    "# drop the bad_tickers from the transactions\n",
    "transactions = transactions[~transactions['ticker'].isin(bad_tickers)]"
   ]
  },
  {
   "cell_type": "code",
   "execution_count": 4,
   "metadata": {},
   "outputs": [],
   "source": [
    "# if a person sells a stock and there is no buy transaction before that, then we should remove that sell transaction\n",
    "\n",
    "def remove_transactions_without_buy(transactions):\n",
    "    # sort the transactions by name, ticker and transaction_date\n",
    "    transactions = transactions.sort_values(['name', 'ticker', 'transaction_date'])\n",
    "    # group the transactions by name and ticker\n",
    "    grouped = transactions.groupby(['name', 'ticker'])\n",
    "    # create a new dataframe to store the transactions that we want to keep\n",
    "    new_transactions = pd.DataFrame(columns=transactions.columns)\n",
    "    # purchase flag\n",
    "    # iterate through the groups\n",
    "    for name, group in grouped:\n",
    "        # print(f'Processing {name}...{group.shape[0]} transactions...')\n",
    "        # set the purchase flag to False\n",
    "        purchased = False\n",
    "        # iterate through the transactions in the group\n",
    "        for index, transaction in group.iterrows():\n",
    "            # if the transaction is a buy transaction, set the purchase flag to True\n",
    "            if transaction['type'] == 'purchase':\n",
    "                purchased = True\n",
    "                # add the transaction to the new_transactions\n",
    "                new_transactions = pd.concat([new_transactions, pd.DataFrame(transaction).T])\n",
    "            # if the transaction is a sell (sell_partial or sell_full) transaction AND the purchase flag is True, add the transaction to the new_transactions\n",
    "            elif purchased and transaction['type'] in ['sale_partial', 'sale_full']:\n",
    "                new_transactions = pd.concat([new_transactions, pd.DataFrame(transaction).T])\n",
    "\n",
    "    return new_transactions\n",
    "\n",
    "transactions_processed = remove_transactions_without_buy(transactions)"
   ]
  },
  {
   "cell_type": "code",
   "execution_count": 5,
   "metadata": {},
   "outputs": [],
   "source": [
    "# replace $1,001 - with $1,001 - $15,000 in the amount column\n",
    "transactions_processed['amount'] = transactions_processed['amount'].str.strip()\n",
    "transactions_processed['amount'] = transactions_processed['amount'].replace('$1,001 -', '$1,001 - $15,000')\n",
    "\n",
    "# create a new column amount_average by taking the average of amount column in each row\n",
    "# amount: $1,001 - $15,000 --> amount_average = (1001 + 15000) / 2 = 8000.5\n",
    "for index, row in transactions_processed.iterrows():\n",
    "    # print(f'Processing {index}...')\n",
    "    # get the amount range\n",
    "    amount_range = row['amount']\n",
    "    # split the amount range by ' - '\n",
    "    amount_range = amount_range.split(' - ')\n",
    "    # get the first and last elements of the amount range\n",
    "    first = int(amount_range[0].replace('$', '').replace(',', ''))\n",
    "    last = int(amount_range[1].replace('$', '').replace(',', ''))\n",
    "    # calculate the average\n",
    "    average = (first + last) / 2\n",
    "    # set the average to the amount_average column\n",
    "    transactions_processed.at[index, 'amount_average'] = average\n"
   ]
  },
  {
   "cell_type": "code",
   "execution_count": 10,
   "metadata": {},
   "outputs": [],
   "source": [
    "# DIFFERENTIATOR: remove all trades that are not insider\n",
    "transactions_processed = transactions_processed[transactions_processed['is_insider'] == True]"
   ]
  },
  {
   "cell_type": "code",
   "execution_count": 13,
   "metadata": {},
   "outputs": [
    {
     "data": {
      "text/plain": [
       "'2015-01-13'"
      ]
     },
     "execution_count": 13,
     "metadata": {},
     "output_type": "execute_result"
    }
   ],
   "source": [
    "earliest_date = transactions_processed['transaction_date'].min()\n",
    "earliest_date"
   ]
  },
  {
   "cell_type": "code",
   "execution_count": 14,
   "metadata": {},
   "outputs": [],
   "source": [
    "# df is transactions_processed[name = some_name]\n",
    "def get_stock_data(ticker_list, transaction_df):\n",
    "    data = pd.DataFrame()\n",
    "    end_date = '2024-04-29'\n",
    "    for ticker in ticker_list:\n",
    "        try: \n",
    "            # start date is the date of the first transaction\n",
    "            start_date = transaction_df[transaction_df['ticker'] == ticker]['transaction_date'].min()\n",
    "            df = get_data(ticker=ticker, start_date=start_date, end_date=end_date, \n",
    "                          index_as_date=False, interval='1d')\n",
    "            df = df[['date', 'ticker', 'adjclose']]\n",
    "            # calculate daily return\n",
    "            df['daily_ret'] = df['adjclose'].pct_change()\n",
    "            data = pd.concat([data, df], axis=0)\n",
    "        except:\n",
    "            print(f'Error getting data for {ticker}...')\n",
    "            continue\n",
    "        \n",
    "    data['date'] = pd.to_datetime(data['date'])\n",
    "    return data"
   ]
  },
  {
   "cell_type": "code",
   "execution_count": 15,
   "metadata": {},
   "outputs": [],
   "source": [
    "from datetime import date, timedelta\n",
    "\n",
    "def get_portfolio_return(toy, data):\n",
    "    # get the first row in the toy dataframe\n",
    "    start_date = toy.loc[0, 'transaction_date'].split('-')\n",
    "    start_date = date(int(start_date[0]), int(start_date[1]), int(start_date[2]))\n",
    "    end_date = date(2024, 4, 29)\n",
    "\n",
    "    # columns = stocks + cash + total\n",
    "    portfolio = pd.DataFrame(columns=list(toy.ticker.unique()) + ['cash', 'total', 'cash_flow', 'return', 'cum_return'],\n",
    "                                index=pd.date_range(start_date, end_date))\n",
    "    # fill na with float(0)\n",
    "    portfolio = portfolio.fillna(float(0))\n",
    "\n",
    "    # iterate over each row in portfolio\n",
    "    for index, row in portfolio.iterrows():\n",
    "        # get the date\n",
    "        current_date = index.strftime('%Y-%m-%d')\n",
    "        # cash flow for calculating the daily return\n",
    "        portfolio.at[index, 'cash_flow'] = 0\n",
    "        # add daily return to the current position for each stock\n",
    "        for ticker in list(toy.ticker.unique()):\n",
    "            # get the previous value\n",
    "            previous = 0\n",
    "            daily_ret = 0\n",
    "            # if it's not the start date, get the value of each stock on the previous day\n",
    "            if current_date != start_date.strftime('%Y-%m-%d'):\n",
    "                previous = portfolio.at[index - timedelta(days=1), ticker]\n",
    "            # get the daily return if it exists in the data\n",
    "            if data[(data['date'] == current_date) & (data['ticker'] == ticker)].shape[0] > 0:\n",
    "                daily_ret = data[(data['date'] == current_date) & (data['ticker'] == ticker)]['daily_ret'].values[0]\n",
    "            # calculate the new value for the stock's position\n",
    "            portfolio.at[current_date, ticker] = previous * (1 + daily_ret)\n",
    "        # cash position is the same as the previous day\n",
    "        if current_date != start_date.strftime('%Y-%m-%d'):\n",
    "            portfolio.at[index, 'cash'] = portfolio.at[index - timedelta(days=1), 'cash']\n",
    "        \n",
    "        # get the transactions that happened on that date\n",
    "        transactions = toy[toy['transaction_date'] == current_date]\n",
    "        # iterate over each transaction\n",
    "        for i, transaction in transactions.iterrows():\n",
    "            amount = transaction['amount_average']\n",
    "            ticker = transaction['ticker']\n",
    "            # if the transaction is a purchase transaction\n",
    "            if transaction['type'] == 'purchase':\n",
    "                # update the portfolio\n",
    "                portfolio.at[index, ticker] += amount\n",
    "                # update cash\n",
    "                portfolio.at[index, 'cash'] = max(0, portfolio.at[index, 'cash'] - amount)\n",
    "                # update cash flow\n",
    "                if amount > portfolio.at[index, 'cash']:\n",
    "                    portfolio.at[index, 'cash_flow'] += amount\n",
    "                    \n",
    "            # if the transaction is a sell transaction, subtract the amount from the current position\n",
    "            # transfer that amount to the cash position\n",
    "            elif transaction['type'] in ['sale_partial', 'sale_full']:\n",
    "                if portfolio.at[index, ticker] >= amount:\n",
    "                    portfolio.at[index, ticker] -= amount\n",
    "                    portfolio.at[index, 'cash'] += amount\n",
    "                    # total remains the same\n",
    "                else:\n",
    "                    actual_amount = portfolio.at[index, ticker]\n",
    "                    portfolio.at[index, ticker] = 0\n",
    "                    portfolio.at[index, 'cash'] += actual_amount\n",
    "                    \n",
    "    # calculate the total value of the portfolio for each date\n",
    "    portfolio['total'] = portfolio[list(toy.ticker.unique())].sum(axis=1) + portfolio['cash']\n",
    "    # calculate the daily return: ( V_t - V_(t-1) - CF_t) / (V_(t-1) + CF_t\n",
    "    portfolio['return'] = (portfolio['total'] - portfolio['total'].shift(1) - portfolio['cash_flow']) / (portfolio['total'].shift(1) + portfolio['cash_flow'])\n",
    "    # calculate the cumulative return\n",
    "    portfolio['cum_return'] = (1 + portfolio['return']).cumprod() - 1\n",
    "    return portfolio"
   ]
  },
  {
   "cell_type": "code",
   "execution_count": 17,
   "metadata": {},
   "outputs": [],
   "source": [
    "def process_portfolio(name, transactions):\n",
    "    # Filter and sort transactions for the person\n",
    "    toy = transactions[(transactions['name'] == name)]\n",
    "    toy = toy.reset_index(drop=True).sort_values('transaction_date').reset_index(drop=True)\n",
    "    # Get unique stock tickers\n",
    "    stocks = toy['ticker'].unique()\n",
    "    # Fetch stock data\n",
    "    data = get_stock_data(stocks, toy)\n",
    "    data = data.fillna(0)\n",
    "    # Compute portfolio returns\n",
    "    portfolio = get_portfolio_return(toy, data)\n",
    "    # Generate filename and save to CSV\n",
    "    file_name = '_'.join(name.split(' ')) + '.csv'\n",
    "    portfolio.to_csv(f'../../data/working_files/insider_trade_returns/{file_name}', index=True)\n",
    "\n",
    "# get the names of all the people in the transactions_processed\n",
    "names = transactions_processed['name'].unique()\n",
    "\n",
    "DATA_PATH = '../../data'\n",
    "\n",
    "if not os.path.exists(DATA_PATH+'/working_files/insider_trade_returns'):\n",
    "    os.makedirs(DATA_PATH+'/working_files/insider_trade_returns')\n",
    "\n",
    "# iterate through the names\n",
    "with ThreadPoolExecutor() as executor:\n",
    "        # Submit tasks to the thread pool\n",
    "        results = executor.map(lambda name: process_portfolio(name, transactions_processed), names)"
   ]
  },
  {
   "cell_type": "code",
   "execution_count": 18,
   "metadata": {},
   "outputs": [
    {
     "name": "stderr",
     "output_type": "stream",
     "text": [
      "/var/folders/px/62m8qql13zqcl_2xc5d532nc0000gn/T/ipykernel_75733/3891226228.py:21: FutureWarning: The behavior of DataFrame concatenation with empty or all-NA entries is deprecated. In a future version, this will no longer exclude empty or all-NA columns when determining the result dtypes. To retain the old behavior, exclude the relevant entries before the concat operation.\n",
      "  results = pd.concat([results, file])\n"
     ]
    }
   ],
   "source": [
    "# loop through all the files in the working_files/insider_trade_returns/ directory\n",
    "# get its index (date), return and cum_return columns\n",
    "# combine it into a single dataframe: name, date, return, cum_return\n",
    "\n",
    "# names = ['Nancy Pelosi', 'Tom Rice']\n",
    "# create a new dataframe to store the results\n",
    "results = pd.DataFrame(columns=['name', 'date', 'return', 'cum_return'])\n",
    "# iterate through the files in the working_files directory\n",
    "# file name is names split by ' ' and joined by '_'\n",
    "for name in names:\n",
    "    file_name = '_'.join(name.split(' ')) + '.csv'\n",
    "    # read the file\n",
    "    file = pd.read_csv(f'../../data/working_files/insider_trade_returns/{file_name}', index_col=0)\n",
    "    # turn index into a column\n",
    "    file['date'] = file.index\n",
    "    # get the columns: date, return, cum_return\n",
    "    file = file[['date', 'return', 'cum_return']]\n",
    "    # add the name column\n",
    "    file['name'] = name\n",
    "    # append the file to the results\n",
    "    results = pd.concat([results, file])\n",
    "    \n",
    "results = results.fillna(0)\n",
    "results = results.reset_index(drop=True)\n",
    "# save the results to a csv file\n",
    "results.to_csv('../../data/outputs/insider_returns.csv', index=False)\n",
    "results.to_csv('../../data/outputs/congress_returns.csv.gz', index=False, compression='gzip')"
   ]
  },
  {
   "cell_type": "code",
   "execution_count": 19,
   "metadata": {},
   "outputs": [
    {
     "data": {
      "text/html": [
       "<div>\n",
       "<style scoped>\n",
       "    .dataframe tbody tr th:only-of-type {\n",
       "        vertical-align: middle;\n",
       "    }\n",
       "\n",
       "    .dataframe tbody tr th {\n",
       "        vertical-align: top;\n",
       "    }\n",
       "\n",
       "    .dataframe thead th {\n",
       "        text-align: right;\n",
       "    }\n",
       "</style>\n",
       "<table border=\"1\" class=\"dataframe\">\n",
       "  <thead>\n",
       "    <tr style=\"text-align: right;\">\n",
       "      <th></th>\n",
       "      <th>name</th>\n",
       "      <th>date</th>\n",
       "      <th>return</th>\n",
       "      <th>cum_return</th>\n",
       "    </tr>\n",
       "  </thead>\n",
       "  <tbody>\n",
       "    <tr>\n",
       "      <th>0</th>\n",
       "      <td>Angus S. King, Jr.</td>\n",
       "      <td>2021-06-24</td>\n",
       "      <td>0.000000</td>\n",
       "      <td>0.000000</td>\n",
       "    </tr>\n",
       "    <tr>\n",
       "      <th>1</th>\n",
       "      <td>Angus S. King, Jr.</td>\n",
       "      <td>2021-06-25</td>\n",
       "      <td>0.002421</td>\n",
       "      <td>0.002421</td>\n",
       "    </tr>\n",
       "    <tr>\n",
       "      <th>2</th>\n",
       "      <td>Angus S. King, Jr.</td>\n",
       "      <td>2021-06-26</td>\n",
       "      <td>0.000000</td>\n",
       "      <td>0.002421</td>\n",
       "    </tr>\n",
       "    <tr>\n",
       "      <th>3</th>\n",
       "      <td>Angus S. King, Jr.</td>\n",
       "      <td>2021-06-27</td>\n",
       "      <td>0.000000</td>\n",
       "      <td>0.002421</td>\n",
       "    </tr>\n",
       "    <tr>\n",
       "      <th>4</th>\n",
       "      <td>Angus S. King, Jr.</td>\n",
       "      <td>2021-06-28</td>\n",
       "      <td>0.015768</td>\n",
       "      <td>0.018227</td>\n",
       "    </tr>\n",
       "  </tbody>\n",
       "</table>\n",
       "</div>"
      ],
      "text/plain": [
       "                 name        date    return  cum_return\n",
       "0  Angus S. King, Jr.  2021-06-24  0.000000    0.000000\n",
       "1  Angus S. King, Jr.  2021-06-25  0.002421    0.002421\n",
       "2  Angus S. King, Jr.  2021-06-26  0.000000    0.002421\n",
       "3  Angus S. King, Jr.  2021-06-27  0.000000    0.002421\n",
       "4  Angus S. King, Jr.  2021-06-28  0.015768    0.018227"
      ]
     },
     "execution_count": 19,
     "metadata": {},
     "output_type": "execute_result"
    }
   ],
   "source": [
    "results.head()"
   ]
  },
  {
   "cell_type": "code",
   "execution_count": 20,
   "metadata": {},
   "outputs": [
    {
     "data": {
      "text/plain": [
       "date\n",
       "2015-01-13    0.000000\n",
       "2015-01-14   -0.003811\n",
       "2015-01-15   -0.030847\n",
       "2015-01-16   -0.038378\n",
       "2015-01-17   -0.038378\n",
       "                ...   \n",
       "2024-04-25    0.382090\n",
       "2024-04-26    0.401246\n",
       "2024-04-27    0.401246\n",
       "2024-04-28    0.401246\n",
       "2024-04-29    0.401246\n",
       "Name: cum_return, Length: 3395, dtype: float64"
      ]
     },
     "execution_count": 20,
     "metadata": {},
     "output_type": "execute_result"
    }
   ],
   "source": [
    "results.groupby('date')['cum_return'].mean()"
   ]
  }
 ],
 "metadata": {
  "kernelspec": {
   "display_name": "base",
   "language": "python",
   "name": "python3"
  },
  "language_info": {
   "codemirror_mode": {
    "name": "ipython",
    "version": 3
   },
   "file_extension": ".py",
   "mimetype": "text/x-python",
   "name": "python",
   "nbconvert_exporter": "python",
   "pygments_lexer": "ipython3",
   "version": "3.11.7"
  }
 },
 "nbformat": 4,
 "nbformat_minor": 2
}
