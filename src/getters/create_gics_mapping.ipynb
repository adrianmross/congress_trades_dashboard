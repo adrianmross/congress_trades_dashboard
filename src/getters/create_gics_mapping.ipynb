{
 "cells": [
  {
   "cell_type": "code",
   "execution_count": null,
   "id": "521b4198-7883-424b-b7ec-812dffe63fad",
   "metadata": {
    "tags": []
   },
   "outputs": [],
   "source": [
    "import pandas as pd\n",
    "import os\n",
    "\n",
    "committee_gic_mappings = {\n",
    "    \"Agriculture, Nutrition, and Forestry\": [\"Agriculture\", \"Food Products\", \"Consumer Staples\"],\n",
    "    \"Appropriations\": [\"Financials\", \"Industrials\", \"Consumer Discretionary\"],\n",
    "    \"Armed Services\": [\"Industrials\", \"Technology\", \"Aerospace & Defense\"],\n",
    "    \"Banking, Housing, and Urban Affairs\": [\"Financials\", \"Real Estate\", \"Industrials\"],\n",
    "    \"Budget\": [\"Consumer Discretionary\", \"Financials\", \"Industrials\"],\n",
    "    \"Commerce, Science, and Transportation\": [\"Technology\", \"Consumer Discretionary\", \"Industrials\"],\n",
    "    \"Energy and Natural Resources\": [\"Energy\", \"Materials\", \"Utilities\"],\n",
    "    \"Environment and Public Works\": [\"Materials\", \"Industrials\", \"Utilities\"],\n",
    "    \"Finance\": [\"Financials\", \"Health Care\", \"Technology\"],\n",
    "    \"Foreign Relations\": [\"Consumer Discretionary\", \"Technology\", \"Industrials\"],\n",
    "    \"Health, Education, Labor, and Pensions\": [\"Consumer Discretionary\", \"Health Care\", \"Technology\"],\n",
    "    \"Homeland Security and Governmental Affairs\": [\"Technology\", \"Industrials\", \"Consumer Discretionary\"],\n",
    "    \"Indian Affairs\": [\"Financials\", \"Energy\", \"Materials\"],\n",
    "    \"Joint Committee on Printing\": [\"Consumer Discretionary\", \"Industrials\", \"Technology\"],\n",
    "    \"Joint Committee on Taxation\": [\"Consumer Discretionary\", \"Financials\", \"Industrials\"],\n",
    "    \"Joint Committee on the Library\": [\"Consumer Discretionary\", \"Industrials\", \"Technology\"],\n",
    "    \"Joint Economic Committee\": [\"Consumer Discretionary\", \"Financials\", \"Industrials\"],\n",
    "    \"Judiciary\": [\"Consumer Discretionary\", \"Industrials\", \"Technology\"],\n",
    "    \"Rules and Administration\": [\"Consumer Discretionary\", \"Industrials\", \"Technology\"],\n",
    "    \"Select Committee on Ethics\": [\"Consumer Discretionary\", \"Financials\", \"Industrials\"],\n",
    "    \"Select Committee on Intelligence\": [\"Consumer Discretionary\", \"Industrials\", \"Technology\"],\n",
    "    \"Small Business and Entrepreneurship\": [\"Consumer Discretionary\", \"Financials\", \"Industrials\"],\n",
    "    \"Special Committee on Aging\": [\"Consumer Discretionary\", \"Health Care\", \"Consumer Staples\"],\n",
    "    \"Veterans' Affairs\": [\"Consumer Discretionary\", \"Health Care\", \"Industrials\"]\n",
    "}\n",
    "\n",
    "committee_gic_df = pd.DataFrame.from_dict(committee_gic_mappings, orient='index', columns=['Top GIC Sector 1', 'Top GIC Sector 2', 'Top GIC Sector 3']).reset_index()\n",
    "committee_gic_df.columns = ['Senate Committee', 'Top GIC Sector 1', 'Top GIC Sector 2', 'Top GIC Sector 3']\n",
    "\n",
    "committee_gic_df\n",
    "\n",
    "DATA_PATH = '../../data'\n",
    "\n",
    "if not os.path.exists(DATA_PATH+'/inputs'):\n",
    "    os.makedirs(DATA_PATH+'/inputs')\n",
    "\n",
    "committee_gic_df.to_csv(DATA_PATH+'/inputs/committee_gic_mapping.csv', index=False)"
   ]
  }
 ],
 "metadata": {
  "kernelspec": {
   "display_name": "Python 3 (ipykernel)",
   "language": "python",
   "name": "python3"
  },
  "language_info": {
   "codemirror_mode": {
    "name": "ipython",
    "version": 3
   },
   "file_extension": ".py",
   "mimetype": "text/x-python",
   "name": "python",
   "nbconvert_exporter": "python",
   "pygments_lexer": "ipython3",
   "version": "3.11.7"
  }
 },
 "nbformat": 4,
 "nbformat_minor": 5
}
