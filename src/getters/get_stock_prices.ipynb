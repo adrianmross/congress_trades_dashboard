{
 "cells": [
  {
   "cell_type": "code",
   "execution_count": 1,
   "metadata": {},
   "outputs": [],
   "source": [
    "# !pip install yahoo_fin\n",
    "from yahoo_fin.stock_info import get_data\n",
    "import pandas as pd"
   ]
  },
  {
   "cell_type": "code",
   "execution_count": 2,
   "metadata": {},
   "outputs": [],
   "source": [
    "# write a function to loop through the list of tickers and get the data\n",
    "def get_stock_data(ticker_list, start_date, end_date):\n",
    "    data = pd.DataFrame()\n",
    "    bad_tickers = []\n",
    "    for ticker in ticker_list:\n",
    "        try: \n",
    "            df = get_data(ticker=ticker, start_date=start_date, end_date=end_date, \n",
    "                          index_as_date=False, interval='1d')\n",
    "            df = df[['date', 'ticker', 'adjclose']]\n",
    "            data = pd.concat([data, df], axis=0)\n",
    "        except:\n",
    "            bad_tickers.append(ticker)\n",
    "            continue\n",
    "        \n",
    "    data['date'] = pd.to_datetime(data['date'])\n",
    "    return data, bad_tickers\n",
    "\n",
    "# data = get_stock_data(['amzn'], '04/29/2014', '04/28/2024')\n",
    "# data"
   ]
  },
  {
   "cell_type": "code",
   "execution_count": 3,
   "metadata": {},
   "outputs": [
    {
     "data": {
      "text/html": [
       "<div>\n",
       "<style scoped>\n",
       "    .dataframe tbody tr th:only-of-type {\n",
       "        vertical-align: middle;\n",
       "    }\n",
       "\n",
       "    .dataframe tbody tr th {\n",
       "        vertical-align: top;\n",
       "    }\n",
       "\n",
       "    .dataframe thead th {\n",
       "        text-align: right;\n",
       "    }\n",
       "</style>\n",
       "<table border=\"1\" class=\"dataframe\">\n",
       "  <thead>\n",
       "    <tr style=\"text-align: right;\">\n",
       "      <th></th>\n",
       "      <th>date</th>\n",
       "      <th>ticker</th>\n",
       "      <th>adjclose</th>\n",
       "    </tr>\n",
       "  </thead>\n",
       "  <tbody>\n",
       "    <tr>\n",
       "      <th>0</th>\n",
       "      <td>2014-01-02</td>\n",
       "      <td>^GSPC</td>\n",
       "      <td>1831.979980</td>\n",
       "    </tr>\n",
       "    <tr>\n",
       "      <th>1</th>\n",
       "      <td>2014-01-03</td>\n",
       "      <td>^GSPC</td>\n",
       "      <td>1831.369995</td>\n",
       "    </tr>\n",
       "    <tr>\n",
       "      <th>2</th>\n",
       "      <td>2014-01-06</td>\n",
       "      <td>^GSPC</td>\n",
       "      <td>1826.770020</td>\n",
       "    </tr>\n",
       "    <tr>\n",
       "      <th>3</th>\n",
       "      <td>2014-01-07</td>\n",
       "      <td>^GSPC</td>\n",
       "      <td>1837.880005</td>\n",
       "    </tr>\n",
       "    <tr>\n",
       "      <th>4</th>\n",
       "      <td>2014-01-08</td>\n",
       "      <td>^GSPC</td>\n",
       "      <td>1837.489990</td>\n",
       "    </tr>\n",
       "  </tbody>\n",
       "</table>\n",
       "</div>"
      ],
      "text/plain": [
       "        date ticker     adjclose\n",
       "0 2014-01-02  ^GSPC  1831.979980\n",
       "1 2014-01-03  ^GSPC  1831.369995\n",
       "2 2014-01-06  ^GSPC  1826.770020\n",
       "3 2014-01-07  ^GSPC  1837.880005\n",
       "4 2014-01-08  ^GSPC  1837.489990"
      ]
     },
     "execution_count": 3,
     "metadata": {},
     "output_type": "execute_result"
    }
   ],
   "source": [
    "# get the stock prices for the S&P 500\n",
    "stock_prices, bad_tickers = get_stock_data(['^GSPC'], '01/01/2014', '04/29/2024')\n",
    "stock_prices.head()"
   ]
  },
  {
   "cell_type": "code",
   "execution_count": 4,
   "metadata": {},
   "outputs": [
    {
     "data": {
      "text/html": [
       "<div>\n",
       "<style scoped>\n",
       "    .dataframe tbody tr th:only-of-type {\n",
       "        vertical-align: middle;\n",
       "    }\n",
       "\n",
       "    .dataframe tbody tr th {\n",
       "        vertical-align: top;\n",
       "    }\n",
       "\n",
       "    .dataframe thead th {\n",
       "        text-align: right;\n",
       "    }\n",
       "</style>\n",
       "<table border=\"1\" class=\"dataframe\">\n",
       "  <thead>\n",
       "    <tr style=\"text-align: right;\">\n",
       "      <th></th>\n",
       "      <th>date</th>\n",
       "      <th>ticker</th>\n",
       "      <th>adjclose</th>\n",
       "      <th>daily_return</th>\n",
       "    </tr>\n",
       "  </thead>\n",
       "  <tbody>\n",
       "    <tr>\n",
       "      <th>0</th>\n",
       "      <td>2014-01-02</td>\n",
       "      <td>^GSPC</td>\n",
       "      <td>1831.979980</td>\n",
       "      <td>NaN</td>\n",
       "    </tr>\n",
       "    <tr>\n",
       "      <th>1</th>\n",
       "      <td>2014-01-03</td>\n",
       "      <td>^GSPC</td>\n",
       "      <td>1831.369995</td>\n",
       "      <td>-0.000333</td>\n",
       "    </tr>\n",
       "    <tr>\n",
       "      <th>2</th>\n",
       "      <td>2014-01-06</td>\n",
       "      <td>^GSPC</td>\n",
       "      <td>1826.770020</td>\n",
       "      <td>-0.002512</td>\n",
       "    </tr>\n",
       "    <tr>\n",
       "      <th>3</th>\n",
       "      <td>2014-01-07</td>\n",
       "      <td>^GSPC</td>\n",
       "      <td>1837.880005</td>\n",
       "      <td>0.006082</td>\n",
       "    </tr>\n",
       "    <tr>\n",
       "      <th>4</th>\n",
       "      <td>2014-01-08</td>\n",
       "      <td>^GSPC</td>\n",
       "      <td>1837.489990</td>\n",
       "      <td>-0.000212</td>\n",
       "    </tr>\n",
       "  </tbody>\n",
       "</table>\n",
       "</div>"
      ],
      "text/plain": [
       "        date ticker     adjclose  daily_return\n",
       "0 2014-01-02  ^GSPC  1831.979980           NaN\n",
       "1 2014-01-03  ^GSPC  1831.369995     -0.000333\n",
       "2 2014-01-06  ^GSPC  1826.770020     -0.002512\n",
       "3 2014-01-07  ^GSPC  1837.880005      0.006082\n",
       "4 2014-01-08  ^GSPC  1837.489990     -0.000212"
      ]
     },
     "execution_count": 4,
     "metadata": {},
     "output_type": "execute_result"
    }
   ],
   "source": [
    "# calculate the daily returns\n",
    "stock_prices['daily_return'] = stock_prices.groupby('ticker')['adjclose'].pct_change()\n",
    "stock_prices.head()"
   ]
  },
  {
   "cell_type": "code",
   "execution_count": 5,
   "metadata": {},
   "outputs": [],
   "source": [
    "# calculate the cumulative returns\n",
    "stock_prices['cum_return'] = (1 + stock_prices['daily_return']).cumprod() - 1"
   ]
  },
  {
   "cell_type": "code",
   "execution_count": 6,
   "metadata": {},
   "outputs": [],
   "source": [
    "# fill NaN values with 0\n",
    "stock_prices.fillna(0, inplace=True)"
   ]
  },
  {
   "cell_type": "code",
   "execution_count": 7,
   "metadata": {},
   "outputs": [],
   "source": [
    "# save the data to a csv file\n",
    "stock_prices.to_csv('../../data/outputs/s&p500_returns.csv', index=False)\n",
    "stock_prices.to_csv('../../data/outputs/s&p500_returns.csv.gz', index=False, compression='gzip')"
   ]
  }
 ],
 "metadata": {
  "kernelspec": {
   "display_name": "base",
   "language": "python",
   "name": "python3"
  },
  "language_info": {
   "codemirror_mode": {
    "name": "ipython",
    "version": 3
   },
   "file_extension": ".py",
   "mimetype": "text/x-python",
   "name": "python",
   "nbconvert_exporter": "python",
   "pygments_lexer": "ipython3",
   "version": "3.11.7"
  }
 },
 "nbformat": 4,
 "nbformat_minor": 2
}
