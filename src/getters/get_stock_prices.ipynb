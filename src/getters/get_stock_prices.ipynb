{
 "cells": [
  {
   "cell_type": "code",
   "execution_count": 2,
   "metadata": {},
   "outputs": [],
   "source": [
    "# !pip install yahoo_fin\n",
    "from yahoo_fin.stock_info import get_data\n",
    "import pandas as pd"
   ]
  },
  {
   "cell_type": "code",
   "execution_count": 3,
   "metadata": {},
   "outputs": [],
   "source": [
    "# write a function to loop through the list of tickers and get the data\n",
    "def get_stock_data(ticker_list, start_date, end_date):\n",
    "    data = pd.DataFrame()\n",
    "    bad_tickers = []\n",
    "    for ticker in ticker_list:\n",
    "        try: \n",
    "            df = get_data(ticker=ticker, start_date=start_date, end_date=end_date, \n",
    "                          index_as_date=False, interval='1d')\n",
    "            df = df[['date', 'ticker', 'adjclose']]\n",
    "            data = pd.concat([data, df], axis=0)\n",
    "        except:\n",
    "            bad_tickers.append(ticker)\n",
    "            continue\n",
    "        \n",
    "    data['date'] = pd.to_datetime(data['date'])\n",
    "    return data, bad_tickers\n",
    "\n",
    "# data = get_stock_data(['amzn'], '04/29/2014', '04/28/2024')\n",
    "# data"
   ]
  },
  {
   "cell_type": "code",
   "execution_count": 4,
   "metadata": {},
   "outputs": [],
   "source": [
    "transactions = pd.read_csv('../../data/inputs/transactions.csv')\n",
    "# get all unique tickers from the transactions dataframe\n",
    "tickers = transactions['ticker'].unique()\n",
    "# get the stock data for all the tickers\n",
    "data, bad_tickers = get_stock_data(tickers, '04/29/2014', '04/28/2024')"
   ]
  },
  {
   "cell_type": "code",
   "execution_count": 6,
   "metadata": {},
   "outputs": [],
   "source": [
    "# save data to stock_prices.csv\n",
    "data.to_csv('../../data/inputs/stock_prices.csv', index=False)\n",
    "# save bad_tickers text file separated by comma\n",
    "with open('../../data/inputs/bad_tickers.txt', 'w') as f:\n",
    "    for ticker in bad_tickers:\n",
    "        f.write(ticker + ',')\n",
    "f.close()"
   ]
  }
 ],
 "metadata": {
  "kernelspec": {
   "display_name": "base",
   "language": "python",
   "name": "python3"
  },
  "language_info": {
   "codemirror_mode": {
    "name": "ipython",
    "version": 3
   },
   "file_extension": ".py",
   "mimetype": "text/x-python",
   "name": "python",
   "nbconvert_exporter": "python",
   "pygments_lexer": "ipython3",
   "version": "3.11.7"
  }
 },
 "nbformat": 4,
 "nbformat_minor": 2
}
