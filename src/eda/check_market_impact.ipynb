{
 "cells": [
  {
   "cell_type": "code",
   "execution_count": 1,
   "metadata": {},
   "outputs": [],
   "source": [
    "from yahoo_fin.stock_info import get_data\n",
    "import pandas as pd\n",
    "# !pip install pandas_market_calendars\n",
    "import pandas_market_calendars as mcal\n",
    "from datetime import datetime\n",
    "import matplotlib.pyplot as plt\n",
    "from tqdm import tqdm  # progress bar on loops\n",
    "import seaborn as sns\n",
    "from datetime import timedelta"
   ]
  },
  {
   "cell_type": "code",
   "execution_count": 2,
   "metadata": {},
   "outputs": [],
   "source": [
    "# load files\n",
    "transactions = pd.read_csv('../../data/inputs/transactions.csv')"
   ]
  },
  {
   "cell_type": "code",
   "execution_count": 3,
   "metadata": {},
   "outputs": [],
   "source": [
    "# read from text file\n",
    "file = open('../../data/inputs/bad_tickers.txt', 'r')\n",
    "# get the list of bad tickers from file, separated by a comma\n",
    "bad_tickers = file.read().split(',')\n",
    "file.close()\n",
    "\n",
    "# drop the bad_tickers from the transactions\n",
    "transactions = transactions[~transactions['ticker'].isin(bad_tickers)]\n",
    "\n",
    "# drop all the transactions happens before 2014-01-01\n",
    "transactions = transactions[transactions['transaction_date'] >= '2014-01-01']"
   ]
  },
  {
   "cell_type": "code",
   "execution_count": 4,
   "metadata": {},
   "outputs": [],
   "source": [
    "# since we are only focusing on 3 sectors (Technology, Financial Services, and Health Care), \n",
    "# we will drop all the other sectors\n",
    "transactions = transactions[transactions['sector'].isin(['Technology', 'Finance', 'Health Care'])]"
   ]
  },
  {
   "cell_type": "code",
   "execution_count": 6,
   "metadata": {},
   "outputs": [],
   "source": [
    "def get_stock_data(ticker_list, start_date, end_date):\n",
    "    data = pd.DataFrame()\n",
    "    bad_tickers = []\n",
    "    for ticker in ticker_list:\n",
    "        try: \n",
    "            df = get_data(ticker=ticker, start_date=start_date, end_date=end_date, \n",
    "                          index_as_date=False, interval='1d')\n",
    "            df = df[['date', 'ticker', 'adjclose']]\n",
    "            data = pd.concat([data, df], axis=0)\n",
    "        except:\n",
    "            bad_tickers.append(ticker)\n",
    "            continue\n",
    "    # data['date'] = pd.to_datetime(data['date'])\n",
    "    return data\n",
    "\n",
    "# data = get_stock_data(['amzn'], '04/29/2014', '04/28/2024')\n",
    "# data"
   ]
  },
  {
   "cell_type": "code",
   "execution_count": 7,
   "metadata": {},
   "outputs": [],
   "source": [
    "# generate all the trading dates from 2014-12-01 to 2024-04-29\n",
    "temp_df = get_stock_data(['AAPL'], '12/01/2014', '04/29/2024')\n",
    "trading_dates = temp_df[['date']]\n",
    "# turn it into a list\n",
    "trading_dates = trading_dates['date'].tolist()\n",
    "# strip the time from the date\n",
    "trading_dates = [str(date).split()[0] for date in trading_dates]"
   ]
  },
  {
   "cell_type": "code",
   "execution_count": 10,
   "metadata": {},
   "outputs": [],
   "source": [
    "# parameter: %Y-%m-%d'  \n",
    "def is_trading_day(date):\n",
    "    return date in trading_dates\n",
    "\n",
    "#  return the date itself if it is a trading day, otherwise return the next trading day\n",
    "# param: %Y-%m-%d'\n",
    "def get_next_trading_date(date):\n",
    "    # check if it's in trading_dates\n",
    "    if is_trading_day(date):\n",
    "        return date\n",
    "    else:\n",
    "        while not is_trading_day(date):\n",
    "            date = datetime.strptime(date, '%Y-%m-%d') + timedelta(days=1)\n",
    "            date = date.strftime('%Y-%m-%d')\n",
    "        return date\n",
    "\n",
    "# parameter: %Y-%m-%d'\n",
    "def get_trading_dates(disclosure_date, num_days_before, num_days_after):\n",
    "    disclosure_date = get_next_trading_date(disclosure_date)\n",
    "    # locate the index of the disclosure date\n",
    "    disclosure_date_index = trading_dates.index(disclosure_date)\n",
    "    # get the trading dates before the disclosure date\n",
    "    trading_dates_before = trading_dates[disclosure_date_index - num_days_before:disclosure_date_index]\n",
    "    # get the trading dates after the disclosure date\n",
    "    trading_dates_after = trading_dates[disclosure_date_index:disclosure_date_index + 2 + num_days_after]\n",
    "    results = trading_dates_before + trading_dates_after\n",
    "    # format the date to %Y/%m/%d\n",
    "    results = [datetime.strptime(date, '%Y-%m-%d').strftime('%Y/%m/%d') for date in results]\n",
    "    \n",
    "    return results"
   ]
  },
  {
   "cell_type": "code",
   "execution_count": 11,
   "metadata": {},
   "outputs": [
    {
     "name": "stderr",
     "output_type": "stream",
     "text": [
      "  0%|          | 0/7030 [00:00<?, ?it/s]"
     ]
    },
    {
     "name": "stderr",
     "output_type": "stream",
     "text": [
      "/var/folders/px/62m8qql13zqcl_2xc5d532nc0000gn/T/ipykernel_98234/1295350872.py:36: FutureWarning: The behavior of DataFrame concatenation with empty or all-NA entries is deprecated. In a future version, this will no longer exclude empty or all-NA columns when determining the result dtypes. To retain the old behavior, exclude the relevant entries before the concat operation.\n",
      "  sell_returns_df = pd.concat([sell_returns_df, stock_data], axis=0)\n",
      "  0%|          | 1/7030 [00:00<21:21,  5.48it/s]/var/folders/px/62m8qql13zqcl_2xc5d532nc0000gn/T/ipykernel_98234/1295350872.py:34: FutureWarning: The behavior of DataFrame concatenation with empty or all-NA entries is deprecated. In a future version, this will no longer exclude empty or all-NA columns when determining the result dtypes. To retain the old behavior, exclude the relevant entries before the concat operation.\n",
      "  purchase_returns_df = pd.concat([purchase_returns_df, stock_data], axis=0)\n",
      "100%|██████████| 7030/7030 [20:37<00:00,  5.68it/s]\n"
     ]
    }
   ],
   "source": [
    "# get stock daily return before and after the disclosure date \n",
    "# ticker | daily_return | trading_days_before_after | disclosure_date | sector\n",
    "# trading_days_before_after = -7, -6, -5, -4, -3, -2, -1, 0, 1, 2, 3, 4, 5, 6, 7\n",
    "# only trading days\n",
    "\n",
    "# iterate over the transactions table\n",
    "# for each transaction, get the daily return before and after the disclosure date\n",
    "# append the result to a new dataframe\n",
    "\n",
    "columns = ['ticker', 'daily_return', 'trading_days_before_after', 'disclosure_date', 'sector', 'cum_return']\n",
    "purchase_returns_df = pd.DataFrame(columns=columns)\n",
    "sell_returns_df = pd.DataFrame(columns=columns)\n",
    "\n",
    "for index in tqdm(range(len(transactions))):\n",
    "    row = transactions.iloc[index]\n",
    "    disclosure_date = row['disclosure_date']\n",
    "    dates = get_trading_dates(disclosure_date, 7, 7)\n",
    "    # get the stock data, stock data consists of date, ticker, and adjclose\n",
    "    stock_data = get_stock_data([row['ticker']], dates[0], dates[-1])\n",
    "    # check if stock_data is empty\n",
    "    if stock_data.empty:\n",
    "        continue\n",
    "    # calculate the daily return\n",
    "    stock_data['daily_return'] = stock_data['adjclose'].pct_change()\n",
    "    stock_data['sector'] = row['sector']\n",
    "    stock_data['disclosure_date'] = disclosure_date\n",
    "    stock_data['trading_days_before_after'] = list(range(-7, 8))\n",
    "    # fill the missing values with 0\n",
    "    stock_data['daily_return'] = stock_data['daily_return'].fillna(0)\n",
    "    # calculate the cumulative return\n",
    "    stock_data['cum_return'] = (1 + stock_data['daily_return']).cumprod() - 1\n",
    "    # separate the purchase and sell transactions\n",
    "    if row['type'] == 'purchase':\n",
    "        purchase_returns_df = pd.concat([purchase_returns_df, stock_data], axis=0)\n",
    "    else:\n",
    "        sell_returns_df = pd.concat([sell_returns_df, stock_data], axis=0)\n",
    "            "
   ]
  },
  {
   "cell_type": "code",
   "execution_count": 12,
   "metadata": {},
   "outputs": [
    {
     "data": {
      "text/html": [
       "<div>\n",
       "<style scoped>\n",
       "    .dataframe tbody tr th:only-of-type {\n",
       "        vertical-align: middle;\n",
       "    }\n",
       "\n",
       "    .dataframe tbody tr th {\n",
       "        vertical-align: top;\n",
       "    }\n",
       "\n",
       "    .dataframe thead th {\n",
       "        text-align: right;\n",
       "    }\n",
       "</style>\n",
       "<table border=\"1\" class=\"dataframe\">\n",
       "  <thead>\n",
       "    <tr style=\"text-align: right;\">\n",
       "      <th></th>\n",
       "      <th>ticker</th>\n",
       "      <th>daily_return</th>\n",
       "      <th>trading_days_before_after</th>\n",
       "      <th>disclosure_date</th>\n",
       "      <th>sector</th>\n",
       "      <th>cum_return</th>\n",
       "      <th>date</th>\n",
       "      <th>adjclose</th>\n",
       "    </tr>\n",
       "  </thead>\n",
       "  <tbody>\n",
       "    <tr>\n",
       "      <th>0</th>\n",
       "      <td>AXP</td>\n",
       "      <td>0.000000</td>\n",
       "      <td>-7</td>\n",
       "      <td>2021-12-01</td>\n",
       "      <td>Finance</td>\n",
       "      <td>0.000000</td>\n",
       "      <td>2021-11-19</td>\n",
       "      <td>167.757706</td>\n",
       "    </tr>\n",
       "    <tr>\n",
       "      <th>1</th>\n",
       "      <td>AXP</td>\n",
       "      <td>-0.015213</td>\n",
       "      <td>-6</td>\n",
       "      <td>2021-12-01</td>\n",
       "      <td>Finance</td>\n",
       "      <td>-0.015213</td>\n",
       "      <td>2021-11-22</td>\n",
       "      <td>165.205688</td>\n",
       "    </tr>\n",
       "    <tr>\n",
       "      <th>2</th>\n",
       "      <td>AXP</td>\n",
       "      <td>-0.000292</td>\n",
       "      <td>-5</td>\n",
       "      <td>2021-12-01</td>\n",
       "      <td>Finance</td>\n",
       "      <td>-0.015500</td>\n",
       "      <td>2021-11-23</td>\n",
       "      <td>165.157394</td>\n",
       "    </tr>\n",
       "    <tr>\n",
       "      <th>3</th>\n",
       "      <td>AXP</td>\n",
       "      <td>0.004448</td>\n",
       "      <td>-4</td>\n",
       "      <td>2021-12-01</td>\n",
       "      <td>Finance</td>\n",
       "      <td>-0.011121</td>\n",
       "      <td>2021-11-24</td>\n",
       "      <td>165.892059</td>\n",
       "    </tr>\n",
       "    <tr>\n",
       "      <th>4</th>\n",
       "      <td>AXP</td>\n",
       "      <td>-0.086184</td>\n",
       "      <td>-3</td>\n",
       "      <td>2021-12-01</td>\n",
       "      <td>Finance</td>\n",
       "      <td>-0.096346</td>\n",
       "      <td>2021-11-26</td>\n",
       "      <td>151.594849</td>\n",
       "    </tr>\n",
       "  </tbody>\n",
       "</table>\n",
       "</div>"
      ],
      "text/plain": [
       "  ticker  daily_return trading_days_before_after disclosure_date   sector  \\\n",
       "0    AXP      0.000000                        -7      2021-12-01  Finance   \n",
       "1    AXP     -0.015213                        -6      2021-12-01  Finance   \n",
       "2    AXP     -0.000292                        -5      2021-12-01  Finance   \n",
       "3    AXP      0.004448                        -4      2021-12-01  Finance   \n",
       "4    AXP     -0.086184                        -3      2021-12-01  Finance   \n",
       "\n",
       "   cum_return       date    adjclose  \n",
       "0    0.000000 2021-11-19  167.757706  \n",
       "1   -0.015213 2021-11-22  165.205688  \n",
       "2   -0.015500 2021-11-23  165.157394  \n",
       "3   -0.011121 2021-11-24  165.892059  \n",
       "4   -0.096346 2021-11-26  151.594849  "
      ]
     },
     "execution_count": 12,
     "metadata": {},
     "output_type": "execute_result"
    }
   ],
   "source": [
    "purchase_returns_df.head()"
   ]
  },
  {
   "cell_type": "code",
   "execution_count": 13,
   "metadata": {},
   "outputs": [],
   "source": [
    "# save the data to csv\n",
    "purchase_returns_df.to_csv('../../data/outputs/purchase_impact.csv', index=False)\n",
    "sell_returns_df.to_csv('../../data/outputs/sell_impact.csv', index=False)"
   ]
  }
 ],
 "metadata": {
  "kernelspec": {
   "display_name": "base",
   "language": "python",
   "name": "python3"
  },
  "language_info": {
   "codemirror_mode": {
    "name": "ipython",
    "version": 3
   },
   "file_extension": ".py",
   "mimetype": "text/x-python",
   "name": "python",
   "nbconvert_exporter": "python",
   "pygments_lexer": "ipython3",
   "version": "3.11.7"
  }
 },
 "nbformat": 4,
 "nbformat_minor": 2
}
