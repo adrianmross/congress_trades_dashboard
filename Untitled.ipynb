{
 "cells": [
  {
   "cell_type": "code",
   "execution_count": 6,
   "id": "d421573f-1455-4fa3-b20e-93284471d2f2",
   "metadata": {},
   "outputs": [],
   "source": [
    "import pandas as pd\n",
    "\n",
    "sp500 = pd.read_csv('inputs/SPY.csv')\n"
   ]
  },
  {
   "cell_type": "code",
   "execution_count": 7,
   "id": "3f2ffd40-75c5-4763-a978-5b3688dbca2c",
   "metadata": {
    "tags": []
   },
   "outputs": [],
   "source": [
    "portfolios = []\n",
    "\n",
    "# for each senator\n",
    "    #create a new df \"senator_portfolio\"\n",
    "    #every time a new buy is flagged:\n",
    "        #add three valaues:\n",
    "            #amount purchased \n",
    "            #date\n",
    "            #return\n",
    "# from there we can calculate portfilio weights and compare the returns with other congress members / index's\n",
    "\n",
    "    \n"
   ]
  },
  {
   "cell_type": "code",
   "execution_count": 8,
   "id": "f3b2dc6f-d1a1-4718-96cb-d7fa8a9dd697",
   "metadata": {
    "tags": []
   },
   "outputs": [
    {
     "name": "stdout",
     "output_type": "stream",
     "text": [
      "Cumulative Returns between 2014-05-01 and 2014-05-06: -0.82%\n"
     ]
    }
   ],
   "source": [
    "df['Date'] = pd.to_datetime(df['Date'])\n",
    "\n",
    "# Step 2: Sort DataFrame by 'Date'\n",
    "sp500= sp500.sort_values('Date')\n",
    "\n",
    "# Step 3: Define start and end dates (x and y)\n",
    "x = pd.to_datetime('2014-05-01')  # Example start date\n",
    "y = pd.to_datetime('2014-05-06')  # Example end date\n",
    "\n",
    "# Step 4: Filter DataFrame between dates x and y\n",
    "filtered_df = df[(df['Date'] >= x) & (df['Date'] <= y)]\n",
    "\n",
    "# Step 5: Calculate cumulative returns\n",
    "close_x = filtered_df.iloc[0]['Close']\n",
    "close_y = filtered_df.iloc[-1]['Close']\n",
    "cumulative_returns = ((close_y - close_x) / close_x) * 100\n",
    "\n",
    "print(\"Cumulative Returns between {} and {}: {:.2f}%\".format(x.date(), y.date(), cumulative_returns))"
   ]
  },
  {
   "cell_type": "code",
   "execution_count": null,
   "id": "51e99cb3-b78f-4d89-ab16-85682a091e6e",
   "metadata": {},
   "outputs": [],
   "source": []
  }
 ],
 "metadata": {
  "kernelspec": {
   "display_name": "Python 3 (ipykernel)",
   "language": "python",
   "name": "python3"
  },
  "language_info": {
   "codemirror_mode": {
    "name": "ipython",
    "version": 3
   },
   "file_extension": ".py",
   "mimetype": "text/x-python",
   "name": "python",
   "nbconvert_exporter": "python",
   "pygments_lexer": "ipython3",
   "version": "3.11.5"
  }
 },
 "nbformat": 4,
 "nbformat_minor": 5
}
