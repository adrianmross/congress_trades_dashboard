{
 "cells": [
  {
   "cell_type": "code",
   "execution_count": 4,
   "id": "d421573f-1455-4fa3-b20e-93284471d2f2",
   "metadata": {},
   "outputs": [],
   "source": [
    "import pandas as pd\n",
    "\n",
    "sp500 = pd.read_csv('inputs/SPY.csv')\n"
   ]
  },
  {
   "cell_type": "code",
   "execution_count": null,
   "id": "3f2ffd40-75c5-4763-a978-5b3688dbca2c",
   "metadata": {},
   "outputs": [],
   "source": [
    "portfolios = []\n",
    "\n",
    "# for each senator\n",
    "    #create a new df \"senator_portfolio\"\n",
    "    #every time a new buy is flagged:\n",
    "        #add three valaues:\n",
    "            #amount purchased \n",
    "            \n",
    "    \n"
   ]
  }
 ],
 "metadata": {
  "kernelspec": {
   "display_name": "Python 3 (ipykernel)",
   "language": "python",
   "name": "python3"
  },
  "language_info": {
   "codemirror_mode": {
    "name": "ipython",
    "version": 3
   },
   "file_extension": ".py",
   "mimetype": "text/x-python",
   "name": "python",
   "nbconvert_exporter": "python",
   "pygments_lexer": "ipython3",
   "version": "3.11.5"
  }
 },
 "nbformat": 4,
 "nbformat_minor": 5
}
