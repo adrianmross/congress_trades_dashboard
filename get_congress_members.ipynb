{
 "cells": [
  {
   "cell_type": "markdown",
   "metadata": {},
   "source": [
    "# Get Congress Members"
   ]
  },
  {
   "cell_type": "code",
   "execution_count": 1,
   "metadata": {},
   "outputs": [
    {
     "name": "stderr",
     "output_type": "stream",
     "text": [
      "p:\\Anaconda\\Lib\\site-packages\\pandas\\core\\arrays\\masked.py:60: UserWarning: Pandas requires version '1.3.6' or newer of 'bottleneck' (version '1.3.5' currently installed).\n",
      "  from pandas.core import (\n"
     ]
    }
   ],
   "source": [
    "import requests as rq\n",
    "from bs4 import BeautifulSoup\n",
    "import pandas as pd\n",
    "import os\n",
    "from itertools import groupby\n",
    "import numpy as np"
   ]
  },
  {
   "cell_type": "markdown",
   "metadata": {},
   "source": [
    "## Get House Members"
   ]
  },
  {
   "cell_type": "code",
   "execution_count": null,
   "metadata": {},
   "outputs": [],
   "source": [
    "# # current members of congress\n",
    "\n",
    "# url = 'https://en.wikipedia.org/wiki/List_of_current_members_of_the_United_States_House_of_Representatives'\n",
    "# response = rq.get(url)\n",
    "\n",
    "# soup = BeautifulSoup(response.text,'html.parser')\n",
    "# table = soup.select('table')[6]\n",
    "\n",
    "# df = pd.read_html(str(table))\n",
    "# house_current = pd.DataFrame(df[0])\n",
    "\n",
    "# # add committees"
   ]
  },
  {
   "cell_type": "code",
   "execution_count": null,
   "metadata": {},
   "outputs": [],
   "source": [
    "house_members = pd.read_csv('house_members.csv')"
   ]
  },
  {
   "cell_type": "markdown",
   "metadata": {
    "vscode": {
     "languageId": "plaintext"
    }
   },
   "source": [
    "## Get Senate Members"
   ]
  },
  {
   "cell_type": "code",
   "execution_count": 5,
   "metadata": {},
   "outputs": [],
   "source": [
    "url2 = 'https://www.senate.gov/general/committee_assignments/assignments.htm'\n",
    "response2 = rq.get(url2)\n",
    "\n",
    "soup2 = BeautifulSoup(response2.content,'html.parser')\n",
    "\n",
    "gov_data = soup2.select('a')\n",
    "\n",
    "actual_titles = []\n",
    "for title in gov_data:\n",
    "    if title.parent.name == 'div' or title.parent.name == 'strong':\n",
    "        actual_titles.append(title.text.strip())\n"
   ]
  },
  {
   "cell_type": "code",
   "execution_count": 8,
   "metadata": {},
   "outputs": [],
   "source": [
    "arr = np.array(actual_titles)\n",
    "idx = np.where(arr == 'Back to top')[0]\n",
    "subarrays = np.split(arr, idx+1)\n",
    "\n",
    "result = [subarray.tolist() for subarray in subarrays if len(subarray) > 0]\n",
    "\n",
    "filtered_result = [[item for item in sublist if item != '' and item != 'Back to top'] for sublist in result]\n",
    "\n",
    "senators_committees = pd.DataFrame(filtered_result).rename(columns={0:'senator',1:'c1',2:'c2',3:'c3',4:'c4',5:'c5',6:'c6',7:'c7',8:'c8'})\n",
    "\n",
    "senators_committees_csv = 'senators_committees.csv'\n",
    "\n",
    "if not os.path.exists(senators_committees_csv):\n",
    "    senators_committees.to_csv(senators_committees_csv,index=False)"
   ]
  }
 ],
 "metadata": {
  "kernelspec": {
   "display_name": "base",
   "language": "python",
   "name": "python3"
  },
  "language_info": {
   "codemirror_mode": {
    "name": "ipython",
    "version": 3
   },
   "file_extension": ".py",
   "mimetype": "text/x-python",
   "name": "python",
   "nbconvert_exporter": "python",
   "pygments_lexer": "ipython3",
   "version": "3.11.5"
  }
 },
 "nbformat": 4,
 "nbformat_minor": 2
}
