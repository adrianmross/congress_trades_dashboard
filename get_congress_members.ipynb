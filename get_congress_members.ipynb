{
 "cells": [
  {
   "cell_type": "markdown",
   "metadata": {},
   "source": [
    "# Get Congress Members"
   ]
  },
  {
   "cell_type": "code",
   "execution_count": 2,
   "metadata": {},
   "outputs": [
    {
     "name": "stderr",
     "output_type": "stream",
     "text": [
      "p:\\Anaconda\\Lib\\site-packages\\pandas\\core\\arrays\\masked.py:60: UserWarning: Pandas requires version '1.3.6' or newer of 'bottleneck' (version '1.3.5' currently installed).\n",
      "  from pandas.core import (\n"
     ]
    }
   ],
   "source": [
    "import requests as rq\n",
    "from bs4 import BeautifulSoup\n",
    "import pandas as pd\n",
    "import os\n",
    "from itertools import groupby\n",
    "import numpy as np"
   ]
  },
  {
   "cell_type": "markdown",
   "metadata": {},
   "source": [
    "## Get House Members"
   ]
  },
  {
   "cell_type": "code",
   "execution_count": null,
   "metadata": {},
   "outputs": [],
   "source": [
    "# current members of congress\n",
    "\n",
    "url = 'https://en.wikipedia.org/wiki/List_of_current_members_of_the_United_States_House_of_Representatives'\n",
    "response = rq.get(url)\n",
    "\n",
    "soup = BeautifulSoup(response.text,'html.parser')\n",
    "table = soup.select('table')[6]\n",
    "\n",
    "df = pd.read_html(str(table))\n",
    "house_current = pd.DataFrame(df[0])\n",
    "\n",
    "# add committees"
   ]
  },
  {
   "cell_type": "code",
   "execution_count": null,
   "metadata": {},
   "outputs": [],
   "source": [
    "house_members = pd.read_csv('house_members.csv')"
   ]
  },
  {
   "cell_type": "markdown",
   "metadata": {
    "vscode": {
     "languageId": "plaintext"
    }
   },
   "source": [
    "## Get Senate Members"
   ]
  },
  {
   "cell_type": "code",
   "execution_count": 5,
   "metadata": {},
   "outputs": [],
   "source": [
    "url2 = 'https://www.senate.gov/general/committee_assignments/assignments.htm'\n",
    "response2 = rq.get(url2)\n",
    "\n",
    "soup2 = BeautifulSoup(response2.content,'html.parser')\n",
    "\n",
    "gov_data = soup2.select('a')\n",
    "\n",
    "actual_titles = []\n",
    "for title in gov_data:\n",
    "    if title.parent.name == 'div' or title.parent.name == 'strong':\n",
    "        actual_titles.append(title.text.strip())\n"
   ]
  },
  {
   "cell_type": "code",
   "execution_count": 8,
   "metadata": {},
   "outputs": [],
   "source": [
    "arr = np.array(actual_titles)\n",
    "idx = np.where(arr == 'Back to top')[0]\n",
    "subarrays = np.split(arr, idx+1)\n",
    "\n",
    "result = [subarray.tolist() for subarray in subarrays if len(subarray) > 0]\n",
    "\n",
    "filtered_result = [[item for item in sublist if item != '' and item != 'Back to top'] for sublist in result]\n",
    "\n",
    "senators_committees = pd.DataFrame(filtered_result).rename(columns={0:'senator',1:'c1',2:'c2',3:'c3',4:'c4',5:'c5',6:'c6',7:'c7',8:'c8'})\n",
    "\n",
    "senators_committees_csv = 'senators_committees.csv'\n",
    "\n",
    "if not os.path.exists(senators_committees_csv):\n",
    "    senators_committees.to_csv(senators_committees_csv,index=False)"
   ]
  },
  {
   "cell_type": "markdown",
   "metadata": {},
   "source": [
    "## Get gsectors"
   ]
  },
  {
   "cell_type": "code",
   "execution_count": 4,
   "metadata": {},
   "outputs": [
    {
     "name": "stderr",
     "output_type": "stream",
     "text": [
      "C:\\Users\\evand\\AppData\\Local\\Temp\\ipykernel_12052\\3942985387.py:7: FutureWarning: Passing literal html to 'read_html' is deprecated and will be removed in a future version. To read from a literal string, wrap it in a 'StringIO' object.\n",
      "  gsect = pd.read_html(str(gsect))\n"
     ]
    }
   ],
   "source": [
    "url3 = 'https://en.wikipedia.org/wiki/Global_Industry_Classification_Standard'\n",
    "response3 = rq.get(url3)\n",
    "\n",
    "soup3 = BeautifulSoup(response3.content,'html.parser')\n",
    "\n",
    "gsect = soup3.select('table')\n",
    "gsect = pd.read_html(str(gsect))\n",
    "gsect = pd.DataFrame(gsect[0])"
   ]
  },
  {
   "cell_type": "code",
   "execution_count": 5,
   "metadata": {},
   "outputs": [
    {
     "data": {
      "text/html": [
       "<div>\n",
       "<style scoped>\n",
       "    .dataframe tbody tr th:only-of-type {\n",
       "        vertical-align: middle;\n",
       "    }\n",
       "\n",
       "    .dataframe tbody tr th {\n",
       "        vertical-align: top;\n",
       "    }\n",
       "\n",
       "    .dataframe thead th {\n",
       "        text-align: right;\n",
       "    }\n",
       "</style>\n",
       "<table border=\"1\" class=\"dataframe\">\n",
       "  <thead>\n",
       "    <tr style=\"text-align: right;\">\n",
       "      <th></th>\n",
       "      <th>Sector</th>\n",
       "      <th>Sector.1</th>\n",
       "      <th>Industry Group</th>\n",
       "      <th>Industry Group.1</th>\n",
       "      <th>Industry</th>\n",
       "      <th>Industry.1</th>\n",
       "      <th>Sub-Industry</th>\n",
       "      <th>Sub-Industry.1</th>\n",
       "    </tr>\n",
       "  </thead>\n",
       "  <tbody>\n",
       "    <tr>\n",
       "      <th>0</th>\n",
       "      <td>10</td>\n",
       "      <td>Energy</td>\n",
       "      <td>1010</td>\n",
       "      <td>Energy</td>\n",
       "      <td>101010.0</td>\n",
       "      <td>Energy Equipment &amp; Services</td>\n",
       "      <td>10101010.0</td>\n",
       "      <td>Oil &amp; Gas Drilling</td>\n",
       "    </tr>\n",
       "    <tr>\n",
       "      <th>1</th>\n",
       "      <td>10</td>\n",
       "      <td>Energy</td>\n",
       "      <td>1010</td>\n",
       "      <td>Energy</td>\n",
       "      <td>101010.0</td>\n",
       "      <td>Energy Equipment &amp; Services</td>\n",
       "      <td>10101020.0</td>\n",
       "      <td>Oil &amp; Gas Equipment &amp; Services</td>\n",
       "    </tr>\n",
       "    <tr>\n",
       "      <th>2</th>\n",
       "      <td>10</td>\n",
       "      <td>Energy</td>\n",
       "      <td>1010</td>\n",
       "      <td>Energy</td>\n",
       "      <td>101020.0</td>\n",
       "      <td>Oil, Gas &amp; Consumable Fuels</td>\n",
       "      <td>10102010.0</td>\n",
       "      <td>Integrated Oil &amp; Gas</td>\n",
       "    </tr>\n",
       "    <tr>\n",
       "      <th>3</th>\n",
       "      <td>10</td>\n",
       "      <td>Energy</td>\n",
       "      <td>1010</td>\n",
       "      <td>Energy</td>\n",
       "      <td>101020.0</td>\n",
       "      <td>Oil, Gas &amp; Consumable Fuels</td>\n",
       "      <td>10102020.0</td>\n",
       "      <td>Oil &amp; Gas Exploration &amp; Production</td>\n",
       "    </tr>\n",
       "    <tr>\n",
       "      <th>4</th>\n",
       "      <td>10</td>\n",
       "      <td>Energy</td>\n",
       "      <td>1010</td>\n",
       "      <td>Energy</td>\n",
       "      <td>101020.0</td>\n",
       "      <td>Oil, Gas &amp; Consumable Fuels</td>\n",
       "      <td>10102030.0</td>\n",
       "      <td>Oil &amp; Gas Refining &amp; Marketing</td>\n",
       "    </tr>\n",
       "    <tr>\n",
       "      <th>...</th>\n",
       "      <td>...</td>\n",
       "      <td>...</td>\n",
       "      <td>...</td>\n",
       "      <td>...</td>\n",
       "      <td>...</td>\n",
       "      <td>...</td>\n",
       "      <td>...</td>\n",
       "      <td>...</td>\n",
       "    </tr>\n",
       "    <tr>\n",
       "      <th>159</th>\n",
       "      <td>60</td>\n",
       "      <td>Real Estate</td>\n",
       "      <td>6010</td>\n",
       "      <td>Equity Real Estate Investment Trusts (REITs)</td>\n",
       "      <td>601080.0</td>\n",
       "      <td>Specialized REITs</td>\n",
       "      <td>60108050.0</td>\n",
       "      <td>Data Center REITs</td>\n",
       "    </tr>\n",
       "    <tr>\n",
       "      <th>160</th>\n",
       "      <td>60</td>\n",
       "      <td>Real Estate</td>\n",
       "      <td>6020</td>\n",
       "      <td>Real Estate Management &amp; Development</td>\n",
       "      <td>602010.0</td>\n",
       "      <td>Real Estate Management &amp; Development</td>\n",
       "      <td>60201010.0</td>\n",
       "      <td>Diversified Real Estate Activities</td>\n",
       "    </tr>\n",
       "    <tr>\n",
       "      <th>161</th>\n",
       "      <td>60</td>\n",
       "      <td>Real Estate</td>\n",
       "      <td>6020</td>\n",
       "      <td>Real Estate Management &amp; Development</td>\n",
       "      <td>602010.0</td>\n",
       "      <td>Real Estate Management &amp; Development</td>\n",
       "      <td>60201020.0</td>\n",
       "      <td>Real Estate Operating Companies</td>\n",
       "    </tr>\n",
       "    <tr>\n",
       "      <th>162</th>\n",
       "      <td>60</td>\n",
       "      <td>Real Estate</td>\n",
       "      <td>6020</td>\n",
       "      <td>Real Estate Management &amp; Development</td>\n",
       "      <td>602010.0</td>\n",
       "      <td>Real Estate Management &amp; Development</td>\n",
       "      <td>60201030.0</td>\n",
       "      <td>Real Estate Development</td>\n",
       "    </tr>\n",
       "    <tr>\n",
       "      <th>163</th>\n",
       "      <td>60</td>\n",
       "      <td>Real Estate</td>\n",
       "      <td>6020</td>\n",
       "      <td>Real Estate Management &amp; Development</td>\n",
       "      <td>602010.0</td>\n",
       "      <td>Real Estate Management &amp; Development</td>\n",
       "      <td>60201040.0</td>\n",
       "      <td>Real Estate Services</td>\n",
       "    </tr>\n",
       "  </tbody>\n",
       "</table>\n",
       "<p>164 rows × 8 columns</p>\n",
       "</div>"
      ],
      "text/plain": [
       "     Sector     Sector.1  Industry Group  \\\n",
       "0        10       Energy            1010   \n",
       "1        10       Energy            1010   \n",
       "2        10       Energy            1010   \n",
       "3        10       Energy            1010   \n",
       "4        10       Energy            1010   \n",
       "..      ...          ...             ...   \n",
       "159      60  Real Estate            6010   \n",
       "160      60  Real Estate            6020   \n",
       "161      60  Real Estate            6020   \n",
       "162      60  Real Estate            6020   \n",
       "163      60  Real Estate            6020   \n",
       "\n",
       "                                 Industry Group.1  Industry  \\\n",
       "0                                          Energy  101010.0   \n",
       "1                                          Energy  101010.0   \n",
       "2                                          Energy  101020.0   \n",
       "3                                          Energy  101020.0   \n",
       "4                                          Energy  101020.0   \n",
       "..                                            ...       ...   \n",
       "159  Equity Real Estate Investment Trusts (REITs)  601080.0   \n",
       "160          Real Estate Management & Development  602010.0   \n",
       "161          Real Estate Management & Development  602010.0   \n",
       "162          Real Estate Management & Development  602010.0   \n",
       "163          Real Estate Management & Development  602010.0   \n",
       "\n",
       "                               Industry.1  Sub-Industry  \\\n",
       "0             Energy Equipment & Services    10101010.0   \n",
       "1             Energy Equipment & Services    10101020.0   \n",
       "2             Oil, Gas & Consumable Fuels    10102010.0   \n",
       "3             Oil, Gas & Consumable Fuels    10102020.0   \n",
       "4             Oil, Gas & Consumable Fuels    10102030.0   \n",
       "..                                    ...           ...   \n",
       "159                     Specialized REITs    60108050.0   \n",
       "160  Real Estate Management & Development    60201010.0   \n",
       "161  Real Estate Management & Development    60201020.0   \n",
       "162  Real Estate Management & Development    60201030.0   \n",
       "163  Real Estate Management & Development    60201040.0   \n",
       "\n",
       "                         Sub-Industry.1  \n",
       "0                    Oil & Gas Drilling  \n",
       "1        Oil & Gas Equipment & Services  \n",
       "2                  Integrated Oil & Gas  \n",
       "3    Oil & Gas Exploration & Production  \n",
       "4        Oil & Gas Refining & Marketing  \n",
       "..                                  ...  \n",
       "159                   Data Center REITs  \n",
       "160  Diversified Real Estate Activities  \n",
       "161     Real Estate Operating Companies  \n",
       "162             Real Estate Development  \n",
       "163                Real Estate Services  \n",
       "\n",
       "[164 rows x 8 columns]"
      ]
     },
     "execution_count": 5,
     "metadata": {},
     "output_type": "execute_result"
    }
   ],
   "source": [
    "gsect"
   ]
  }
 ],
 "metadata": {
  "kernelspec": {
   "display_name": "base",
   "language": "python",
   "name": "python3"
  },
  "language_info": {
   "codemirror_mode": {
    "name": "ipython",
    "version": 3
   },
   "file_extension": ".py",
   "mimetype": "text/x-python",
   "name": "python",
   "nbconvert_exporter": "python",
   "pygments_lexer": "ipython3",
   "version": "3.11.5"
  }
 },
 "nbformat": 4,
 "nbformat_minor": 2
}
