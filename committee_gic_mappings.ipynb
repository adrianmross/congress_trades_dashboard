{
 "cells": [
  {
   "cell_type": "code",
   "execution_count": null,
   "id": "46d83033-d5d4-4565-9bd6-6007f4b156d2",
   "metadata": {},
   "outputs": [],
   "source": [
    "committee_gic_mappings_vanguard = {\n",
    "    \"Agriculture, Nutrition, and Forestry\": [\"VAW\", \"VDC\"],\n",
    "    \n",
    "    \"Appropriations\": [\"VFH\", \"VCR\"],\n",
    "    \n",
    "    \"Armed Services\": [\"VIS\", \"VGT\", \"VPU\"],\n",
    "    \n",
    "    \"Banking, Housing, and Urban Affairs\": [\"VFH\", \"VNQ\", \"VIS\"],\n",
    "    \n",
    "    \"Commerce, Science, and Transportation\": [\"VGT\", \"VCR\", \"VIS\"],\n",
    "    \n",
    "    \"Energy and Natural Resources\": [\"VDE\", \"VAW\", \"VPU\"],\n",
    "    \n",
    "    \"Environment and Public Works\": [\"VAW\", \"VIS\", \"VPU\"],\n",
    "    \n",
    "    \"Finance\": [\"VFH\", \"VHT\", \"VGT\"]\n",
    "    ,\n",
    "    \"Foreign Relations\": [\"VCR\", \"VGT\", \"VIS\"],\n",
    "    \n",
    "    \"Health, Education, Labor, and Pensions\": [\"VCR\", \"VHT\", \"VGT\"],\n",
    "    \n",
    "    \"Homeland Security and Governmental Affairs\": [\"VGT\", \"VIS\", \"VCR\"],\n",
    "    \n",
    "    \"Indian Affairs\": [\"VFH\", \"VDE\", \"VAW\"],\n",
    "    \n",
    "    \"Judiciary\": [\"VCR\", \"VIS\", \"VGT\"],\n",
    "    \n",
    "    \"Rules and Administration\": [\"VCR\", \"VIS\", \"VGT\"],\n",
    "    \n",
    "    \"Small Business and Entrepreneurship\": [\"VCR\", \"VFH\", \"VIS\"],\n",
    "    \n",
    "    \"Special Committee on Aging\": [\"VCR\", \"VHT\", \"VDC\"],\n",
    "    \n",
    "    \"Veterans' Affairs\": [\"VCR\", \"VHT\", \"VIS\"]\n",
    "}"
   ]
  }
 ],
 "metadata": {
  "kernelspec": {
   "display_name": "Python 3 (ipykernel)",
   "language": "python",
   "name": "python3"
  },
  "language_info": {
   "codemirror_mode": {
    "name": "ipython",
    "version": 3
   },
   "file_extension": ".py",
   "mimetype": "text/x-python",
   "name": "python",
   "nbconvert_exporter": "python",
   "pygments_lexer": "ipython3",
   "version": "3.11.5"
  }
 },
 "nbformat": 4,
 "nbformat_minor": 5
}
