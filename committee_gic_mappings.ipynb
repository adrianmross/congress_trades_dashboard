{
 "cells": [
  {
   "cell_type": "code",
   "execution_count": 3,
   "id": "09510e03-25a1-4ab6-86e3-16bd90a0755f",
   "metadata": {
    "tags": []
   },
   "outputs": [],
   "source": [
    "committee_gic_mappings_vanguard = {\n",
    "    \"Agriculture, Nutrition, and Forestry\": [\"VAW\", \"VDC\"],\n",
    "    \"Appropriations\": [\"VFH\", \"VCR\"],\n",
    "    \"Armed Services\": [\"VIS\", \"VGT\", \"VPU\"],\n",
    "    \"Banking, Housing, and Urban Affairs\": [\"VFH\", \"VNQ\", \"VIS\"],\n",
    "    \"Commerce, Science, and Transportation\": [\"VGT\", \"VCR\", \"VIS\"],\n",
    "    \"Energy and Natural Resources\": [\"VDE\", \"VAW\", \"VPU\"],\n",
    "    \"Environment and Public Works\": [\"VAW\", \"VIS\", \"VPU\"],\n",
    "    \"Finance\": [\"VFH\", \"VHT\", \"VGT\"],\n",
    "    \"Foreign Relations\": [\"VCR\", \"VGT\", \"VIS\"],\n",
    "    \"Health, Education, Labor, and Pensions\": [\"VCR\", \"VHT\", \"VGT\"],\n",
    "    \"Homeland Security and Governmental Affairs\": [\"VGT\", \"VIS\", \"VCR\"],\n",
    "    \"Indian Affairs\": [\"VFH\", \"VDE\", \"VAW\"],\n",
    "    \"Judiciary\": [\"VCR\", \"VIS\", \"VGT\"],\n",
    "    \"Rules and Administration\": [\"VCR\", \"VIS\", \"VGT\"],\n",
    "    \"Small Business and Entrepreneurship\": [\"VCR\", \"VFH\", \"VIS\"],\n",
    "    \"Special Committee on Aging\": [\"VCR\", \"VHT\", \"VDC\"],\n",
    "    \"Veterans' Affairs\": [\"VCR\", \"VHT\", \"VIS\"],\n",
    "    \"Budget\": [\"VFH\", \"VNQ\", \"VPU\"],\n",
    "    \"Education and the Workforce\": [\"VCR\", \"VDR\", \"VIS\"],\n",
    "    \"Energy and Commerce\": [\"VDE\", \"VCR\", \"VIS\"],\n",
    "    \"Ethics\": [\"VOX\", \"VCR\", \"VGT\"],\n",
    "    \"Financial Services\": [\"VFH\", \"VCR\", \"VGT\"],\n",
    "    \"Foreign Affairs\": [\"VCR\", \"VHT\", \"VPU\"],\n",
    "    \"House Administration\": [\"VOX\", \"VGT\", \"VPU\"],\n",
    "    \"Natural Resources\": [\"VDE\", \"VAW\", \"VPU\"],\n",
    "    \"Oversight and Accountability\": [\"VCR\", \"VIS\", \"VPU\"],\n",
    "    \"Science, Space, and Technology\": [\"VGT\", \"VOX\", \"VPU\"],\n",
    "    \"Transportation and Infrastructure\": [\"VIS\", \"VNQ\", \"VPU\"],\n",
    "    \"Ways and Means\": [\"VFH\", \"VNQ\", \"VPU\"],\n",
    "    \"Permanent Select Committee on Intelligence\": [\"VOX\", \"VGT\", \"VPU\"],\n",
    "    \"Select Committee on the Strategic Competition Between the United States and the Chinese Communist Party\": [\"VCR\", \"VGT\", \"VPU\"],\n",
    "    \"Joint Economic Committee\": [\"VFH\", \"VNQ\", \"VPU\"],\n",
    "    \"Joint Committee on the Library\": [\"VOX\", \"VGT\", \"VPU\"],\n",
    "    \"Joint Committee on Printing\": [\"VCR\", \"VGT\", \"VPU\"],\n",
    "    \"Joint Committee on Taxation\": [\"VFH\", \"VNQ\", \"VPU\"]\n",
    "}"
   ]
  },
  {
   "cell_type": "code",
   "execution_count": 4,
   "id": "6a859715-b88c-4168-8d0c-f34925803fcc",
   "metadata": {
    "tags": []
   },
   "outputs": [
    {
     "data": {
      "text/plain": [
       "35"
      ]
     },
     "execution_count": 4,
     "metadata": {},
     "output_type": "execute_result"
    }
   ],
   "source": [
    "len(committee_gic_mappings_vanguard)"
   ]
  },
  {
   "cell_type": "code",
   "execution_count": null,
   "id": "88631981-b3c5-47d6-8417-9c8133bb3eff",
   "metadata": {},
   "outputs": [],
   "source": [
    "committee_gic_mappings_vanguard = {\n",
    "    \"Agriculture, Nutrition, and Forestry\": [\"Materials\", \"Consumer Discretionary\"],\n",
    "    \n",
    "    \"Appropriations\": [\"Financials\", \"Consumer Discretionary\"],\n",
    "    \n",
    "    \"Armed Services\": [\"Industrials\", \"Information Technology\", \"Utilities\"],\n",
    "    \n",
    "    \"Banking, Housing, and Urban Affairs\": [\"Financials\", \"Real Estate\", \"Industrials\"],\n",
    "    \n",
    "    \"Commerce, Science, and Transportation\": [\"Industrials\", \"Financials\", \"Utilities\"],\n",
    "    \n",
    "    \"Energy and Natural Resources\": [\"Energy\", \"Materials\", \"Utilities\"],\n",
    "    \n",
    "    \"Environment and Public Works\": [\"Materials\", \"Industrials\", \"Utilities\"],\n",
    "    \n",
    "    \"Finance\": [\"Financials\", \"Healthcare\", \"Information Technology\"],\n",
    "    \n",
    "    \"Foreign Relations\": [\"Consumer Discretionary\", \"Information Technology\", \"Utilities\"],\n",
    "    \n",
    "    \"Health, Education, Labor, and Pensions\": [\"Consumer Discretionary\", \"Healthcare\", \"Finance\"],\n",
    "    \n",
    "    \"Homeland Security and Governmental Affairs\": [\"Information Technology\", \"Utilities\", \"Financials\"],\n",
    "    \n",
    "    \"Indian Affairs\": [\"Energy\", \"Materials\"],\n",
    "    \n",
    "    \"Judiciary\": [\"Consumer Discretionary\", \"Utilities\", \"Information Technology\"],\n",
    "    \n",
    "    \"Rules and Administration\": [\"Consumer Discretionary\", \"Utilities\", \"Information Technology\"],\n",
    "    \n",
    "    \"Small Business and Entrepreneurship\": [\"Consumer Discretionary\", \"Financials\", \"Real Estate\"],\n",
    "    \n",
    "    \"Special Committee on Aging\": [\"Consumer Discretionary\", \"Healthcare\", \"Materials\"],\n",
    "    \n",
    "    \"Veterans' Affairs\": [\"Consumer Discretionary\", \"Healthcare\"],\n",
    "    \n",
    "    \"Budget\": [\"Financials\", \"Real Estate\", \"Utilities\"],\n",
    "    \n",
    "    \"Education and the Workforce\": [\"Consumer Discretionary\", \"Consumer Staples\", \"Utilities\"],\n",
    "    \n",
    "    \"Energy and Commerce\": [\"Energy\", \"Materials\", \"Utilities\"],\n",
    "    \n",
    "    \"Ethics\": [\"Communication Services\", \"Consumer Discretionary\", \"Information Technology\"],\n",
    "    \n",
    "    \"Financial Services\": [\"Financials\", \"Real Estate\", \"Information Technology\"],\n",
    "    \n",
    "    \"Foreign Affairs\": [\"Consumer Discretionary\", \"Healthcare\", \"Utilities\"],\n",
    "    \n",
    "    \"House Administration\": [\"Communication Services\", \"Information Technology\", \"Utilities\"],\n",
    "    \n",
    "    \"Natural Resources\": [\"Energy\", \"Materials\", \"Utilities\"],\n",
    "    \n",
    "    \"Oversight and Accountability\": [\"Consumer Discretionary\", \"Utilities\", \"Information Technology\"],\n",
    "    \n",
    "    \"Science, Space, and Technology\": [\"Information Technology\", \"Communication Services\", \"Utilities\"],\n",
    "    \n",
    "    \"Transportation and Infrastructure\": [\"Industrials\", \"Real Estate\", \"Utilities\"],\n",
    "    \n",
    "    \"Ways and Means\": [\"Financials\", \"Real Estate\", \"Utilities\"],\n",
    "    \n",
    "    \"Permanent Select Committee on Intelligence\": [\"Communication Services\", \"Information Technology\", \"Utilities\"],\n",
    "    \n",
    "    \"Select Committee on the Strategic Competition Between the United States and the Chinese Communist Party\": [\"Consumer Discretionary\", \"Information Technology\", \"Utilities\"],\n",
    "    \n",
    "    \"Joint Economic Committee\": [\"Financials\", \"Real Estate\", \"Utilities\"],\n",
    "    \n",
    "    \"Joint Committee on the Library\": [\"Communication Services\", \"Information Technology\", \"Utilities\"],\n",
    "    \n",
    "    \"Joint Committee on Printing\": [\"Consumer Discretionary\", \"Information Technology\", \"Utilities\"],\n",
    "    \n",
    "    \"Joint Committee on Taxation\": [\"Financials\", \"Real Estate\", \"Utilities\"]\n",
    "}\n"
   ]
  }
 ],
 "metadata": {
  "kernelspec": {
   "display_name": "Python 3 (ipykernel)",
   "language": "python",
   "name": "python3"
  },
  "language_info": {
   "codemirror_mode": {
    "name": "ipython",
    "version": 3
   },
   "file_extension": ".py",
   "mimetype": "text/x-python",
   "name": "python",
   "nbconvert_exporter": "python",
   "pygments_lexer": "ipython3",
   "version": "3.11.5"
  }
 },
 "nbformat": 4,
 "nbformat_minor": 5
}
