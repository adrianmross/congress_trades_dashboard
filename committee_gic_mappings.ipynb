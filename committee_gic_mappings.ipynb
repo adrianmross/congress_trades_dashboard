{
 "cells": [
  {
   "cell_type": "code",
   "execution_count": 1,
   "id": "46d83033-d5d4-4565-9bd6-6007f4b156d2",
   "metadata": {},
   "outputs": [
    {
     "data": {
      "text/plain": [
       "17"
      ]
     },
     "execution_count": 1,
     "metadata": {},
     "output_type": "execute_result"
    }
   ],
   "source": [
    "committee_gic_mappings_vanguard = {\n",
    "    \"Agriculture, Nutrition, and Forestry\": [\"VAW\", \"VDC\"],\n",
    "    \n",
    "    \"Appropriations\": [\"VFH\", \"VCR\"],\n",
    "    \n",
    "    \"Armed Services\": [\"VIS\", \"VGT\", \"VPU\"],\n",
    "    \n",
    "    \"Banking, Housing, and Urban Affairs\": [\"VFH\", \"VNQ\", \"VIS\"],\n",
    "    \n",
    "    \"Commerce, Science, and Transportation\": [\"VGT\", \"VCR\", \"VIS\"],\n",
    "    \n",
    "    \"Energy and Natural Resources\": [\"VDE\", \"VAW\", \"VPU\"],\n",
    "    \n",
    "    \"Environment and Public Works\": [\"VAW\", \"VIS\", \"VPU\"],\n",
    "    \n",
    "    \"Finance\": [\"VFH\", \"VHT\", \"VGT\"]\n",
    "    ,\n",
    "    \"Foreign Relations\": [\"VCR\", \"VGT\", \"VIS\"],\n",
    "    \n",
    "    \"Health, Education, Labor, and Pensions\": [\"VCR\", \"VHT\", \"VGT\"],\n",
    "    \n",
    "    \"Homeland Security and Governmental Affairs\": [\"VGT\", \"VIS\", \"VCR\"],\n",
    "    \n",
    "    \"Indian Affairs\": [\"VFH\", \"VDE\", \"VAW\"],\n",
    "    \n",
    "    \"Judiciary\": [\"VCR\", \"VIS\", \"VGT\"],\n",
    "    \n",
    "    \"Rules and Administration\": [\"VCR\", \"VIS\", \"VGT\"],\n",
    "    \n",
    "    \"Small Business and Entrepreneurship\": [\"VCR\", \"VFH\", \"VIS\"],\n",
    "    \n",
    "    \"Special Committee on Aging\": [\"VCR\", \"VHT\", \"VDC\"],\n",
    "    \n",
    "    \"Veterans' Affairs\": [\"VCR\", \"VHT\", \"VIS\"]\n",
    "}\n",
    "\n",
    "len(committee_gic_mappings_vanguard)"
   ]
  },
  {
   "cell_type": "code",
   "execution_count": null,
   "id": "09510e03-25a1-4ab6-86e3-16bd90a0755f",
   "metadata": {},
   "outputs": [],
   "source": [
    "committee_gic_mappings_vanguard = {\n",
    "    \"Agriculture, Nutrition, and Forestry\": [\"VAW\", \"VDC\"],\n",
    "    \"Appropriations\": [\"VFH\", \"VCR\"],\n",
    "    \"Armed Services\": [\"VIS\", \"VGT\", \"VPU\"],\n",
    "    \"Banking, Housing, and Urban Affairs\": [\"VFH\", \"VNQ\", \"VIS\"],\n",
    "    \"Commerce, Science, and Transportation\": [\"VGT\", \"VCR\", \"VIS\"],\n",
    "    \"Energy and Natural Resources\": [\"VDE\", \"VAW\", \"VPU\"],\n",
    "    \"Environment and Public Works\": [\"VAW\", \"VIS\", \"VPU\"],\n",
    "    \"Finance\": [\"VFH\", \"VHT\", \"VGT\"],\n",
    "    \"Foreign Relations\": [\"VCR\", \"VGT\", \"VIS\"],\n",
    "    \"Health, Education, Labor, and Pensions\": [\"VCR\", \"VHT\", \"VGT\"],\n",
    "    \"Homeland Security and Governmental Affairs\": [\"VGT\", \"VIS\", \"VCR\"],\n",
    "    \"Indian Affairs\": [\"VFH\", \"VDE\", \"VAW\"],\n",
    "    \"Judiciary\": [\"VCR\", \"VIS\", \"VGT\"],\n",
    "    \"Rules and Administration\": [\"VCR\", \"VIS\", \"VGT\"],\n",
    "    \"Small Business and Entrepreneurship\": [\"VCR\", \"VFH\", \"VIS\"],\n",
    "    \"Special Committee on Aging\": [\"VCR\", \"VHT\", \"VDC\"],\n",
    "    \"Veterans' Affairs\": [\"VCR\", \"VHT\", \"VIS\"],\n",
    "    \"Budget\": [\"IXB\"],\n",
    "    \"Education and the Workforce\": [\"IXI\"],\n",
    "    \"Energy and Commerce\": [\"IXE\"],\n",
    "    \"Ethics\": [],\n",
    "    \"Financial Services\": [\"IXM\"],\n",
    "    \"Foreign Affairs\": [\"IXG\"],\n",
    "    \"House Administration\": [],\n",
    "    \"Natural Resources\": [\"IXE\"],\n",
    "    \"Oversight and Accountability\": [],\n",
    "    \"Science, Space, and Technology\": [\"IXJ\"],\n",
    "    \"Transportation and Infrastructure\": [\"IXT\"],\n",
    "    \"Ways and Means\": [\"IXM\"],\n",
    "    \"Permanent Select Committee on Intelligence\": [],\n",
    "    \"Select Committee on the Strategic Competition Between the United States and the Chinese Communist Party\": [],\n",
    "    \"Joint Economic Committee\": [\"IXI\"],\n",
    "    \"Joint Committee on the Library\": [],\n",
    "    \"Joint Committee on Printing\": [],\n",
    "    \"Joint Committee on Taxation\": []\n",
    "}"
   ]
  }
 ],
 "metadata": {
  "kernelspec": {
   "display_name": "Python 3 (ipykernel)",
   "language": "python",
   "name": "python3"
  },
  "language_info": {
   "codemirror_mode": {
    "name": "ipython",
    "version": 3
   },
   "file_extension": ".py",
   "mimetype": "text/x-python",
   "name": "python",
   "nbconvert_exporter": "python",
   "pygments_lexer": "ipython3",
   "version": "3.11.5"
  }
 },
 "nbformat": 4,
 "nbformat_minor": 5
}
